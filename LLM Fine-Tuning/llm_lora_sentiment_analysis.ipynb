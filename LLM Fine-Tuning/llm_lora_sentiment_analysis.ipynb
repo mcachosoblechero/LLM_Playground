{
 "cells": [
  {
   "cell_type": "markdown",
   "id": "46d9ac38-92a0-4994-995b-c687a953a3d3",
   "metadata": {},
   "source": [
    "# LLM Fine-Tuning using LoRA\n",
    "\n",
    "This notebook provides an example on how to use LoRA to improve a LLM performance on a specific task, such as sentiment analysis.!pip install torch\n",
    "!pip install datasets transformers sentencepiece\n",
    "!pip install tqdm\n",
    "!pip install sacrebleu"
   ]
  },
  {
   "cell_type": "code",
   "execution_count": null,
   "id": "bac5ee50-5bf3-4295-81f5-e1c45f32db73",
   "metadata": {
    "tags": []
   },
   "outputs": [],
   "source": [
    "!pip install torch\n",
    "!pip install datasets transformers evaluate sentencepiece\n",
    "!pip install tqdm\n",
    "!pip install peft"
   ]
  },
  {
   "cell_type": "markdown",
   "id": "26b12f88-1507-4b08-ade6-aa242170746e",
   "metadata": {},
   "source": [
    "# 0. Libraries, constants and support functions "
   ]
  },
  {
   "cell_type": "code",
   "execution_count": 1,
   "id": "e1262a58-f7ff-4d84-9a9e-7eb2189ceac4",
   "metadata": {
    "tags": []
   },
   "outputs": [
    {
     "name": "stderr",
     "output_type": "stream",
     "text": [
      "2024-10-08 20:57:16.406417: I tensorflow/core/platform/cpu_feature_guard.cc:210] This TensorFlow binary is optimized to use available CPU instructions in performance-critical operations.\n",
      "To enable the following instructions: AVX2 FMA, in other operations, rebuild TensorFlow with the appropriate compiler flags.\n"
     ]
    }
   ],
   "source": [
    "import torch\n",
    "import evaluate\n",
    "import numpy as np\n",
    "\n",
    "from transformers import AutoTokenizer, AutoModelForSequenceClassification, TrainingArguments, Trainer\n",
    "from datasets import load_dataset\n",
    "from peft import LoraConfig, get_peft_model, TaskType"
   ]
  },
  {
   "cell_type": "markdown",
   "id": "31daa1dc-a93a-4c31-9d74-697efb0ffffe",
   "metadata": {},
   "source": [
    "# 1. Obtain performance from pre-trained model"
   ]
  },
  {
   "cell_type": "code",
   "execution_count": 2,
   "id": "950b5aac-a0e7-44bf-a798-20fd724777c5",
   "metadata": {
    "tags": []
   },
   "outputs": [],
   "source": [
    "# Load imbd dataset\n",
    "imdb_dataset = load_dataset('imdb')\n",
    "\n",
    "# Split between train/test\n",
    "imdb_dataset_train = imdb_dataset['train']\n",
    "imdb_dataset_test = imdb_dataset['test']"
   ]
  },
  {
   "cell_type": "code",
   "execution_count": 3,
   "id": "7179c762-49a9-408f-b2bf-dd0192b43ef9",
   "metadata": {
    "tags": []
   },
   "outputs": [
    {
     "name": "stderr",
     "output_type": "stream",
     "text": [
      "Some weights of BertForSequenceClassification were not initialized from the model checkpoint at bert-base-uncased and are newly initialized: ['classifier.bias', 'classifier.weight']\n",
      "You should probably TRAIN this model on a down-stream task to be able to use it for predictions and inference.\n"
     ]
    }
   ],
   "source": [
    "# Load tokenizer and model\n",
    "model_name = 'bert-base-uncased'\n",
    "tokenizer = AutoTokenizer.from_pretrained(model_name)\n",
    "model = AutoModelForSequenceClassification.from_pretrained(model_name, num_labels=2)"
   ]
  },
  {
   "cell_type": "code",
   "execution_count": 4,
   "id": "ce27fa93-a246-47ab-a1ee-d705c52dc27c",
   "metadata": {
    "tags": []
   },
   "outputs": [
    {
     "data": {
      "application/vnd.jupyter.widget-view+json": {
       "model_id": "ccd7b83e7e1b4b6f9fa6f14371d83643",
       "version_major": 2,
       "version_minor": 0
      },
      "text/plain": [
       "Map:   0%|          | 0/25000 [00:00<?, ? examples/s]"
      ]
     },
     "metadata": {},
     "output_type": "display_data"
    }
   ],
   "source": [
    "def preprocess_function(examples):\n",
    "    return tokenizer(examples['text'], truncation=True, padding='max_length', max_length=256)\n",
    "\n",
    "# Tokenize dataset\n",
    "tokenized_imdb_train = imdb_dataset_train.map(preprocess_function, batched=True, remove_columns=['text'])\n",
    "tokenized_imdb_test = imdb_dataset_test.map(preprocess_function, batched=True, remove_columns=['text'])"
   ]
  },
  {
   "cell_type": "code",
   "execution_count": 5,
   "id": "0b75baec-2366-4d5f-99a2-b9dbb2ee9204",
   "metadata": {
    "tags": []
   },
   "outputs": [],
   "source": [
    "# Convert to torch dataset format\n",
    "tokenized_imdb_train.set_format('torch')\n",
    "tokenized_imdb_test.set_format('torch')"
   ]
  },
  {
   "cell_type": "code",
   "execution_count": 6,
   "id": "f373be34-bc41-46b8-81e1-5b89661d6a3f",
   "metadata": {
    "tags": []
   },
   "outputs": [],
   "source": [
    "# Define performance function\n",
    "accuracy_metric = evaluate.load('accuracy')\n",
    "precision_metric = evaluate.load('precision')\n",
    "recall_metric = evaluate.load('recall')\n",
    "f1_metric = evaluate.load('f1')\n",
    "\n",
    "def compute_metrics(eval_pred):\n",
    "    # Obtain output and labels\n",
    "    logits, labels = eval_pred\n",
    "    predictions = np.argmax(logits, axis=-1) # Apply argmax\n",
    "    # Apply metrics and add to dictionary\n",
    "    accuracy = accuracy_metric.compute(predictions=predictions, references=labels)['accuracy']\n",
    "    precision = precision_metric.compute(predictions=predictions, references=labels, average='binary')['precision']\n",
    "    recall = recall_metric.compute(predictions=predictions, references=labels, average='binary')['recall']\n",
    "    f1 = f1_metric.compute(predictions=predictions, references=labels, average='binary')['f1']\n",
    "    return {'accuracy': accuracy, 'precision': precision, 'recall': recall, 'f1': f1}\n"
   ]
  },
  {
   "cell_type": "code",
   "execution_count": 7,
   "id": "568696cd-9783-4162-894f-53ad7ad5f97d",
   "metadata": {
    "tags": []
   },
   "outputs": [],
   "source": [
    "# Define training parameters\n",
    "training_args = TrainingArguments(\n",
    "    output_dir='./results',\n",
    "    per_device_eval_batch_size=64,\n",
    ")\n",
    "\n",
    "# Define trainer with parameters\n",
    "pre_trainer = Trainer(\n",
    "    model=model,\n",
    "    args=training_args,\n",
    "    eval_dataset=tokenized_imdb_test,\n",
    "    compute_metrics=compute_metrics,\n",
    "    tokenizer=tokenizer,\n",
    ")"
   ]
  },
  {
   "cell_type": "code",
   "execution_count": 8,
   "id": "50547f95-31d5-4048-8c5c-c456c681d461",
   "metadata": {
    "tags": []
   },
   "outputs": [
    {
     "name": "stdout",
     "output_type": "stream",
     "text": [
      "Evaluating the pre-trained model before fine-tuning...\n"
     ]
    },
    {
     "name": "stderr",
     "output_type": "stream",
     "text": [
      "/opt/conda/envs/python311/lib/python3.11/site-packages/torch/nn/parallel/_functions.py:68: UserWarning: Was asked to gather along dimension 0, but all input tensors were scalars; will instead unsqueeze and return a vector.\n",
      "  warnings.warn('Was asked to gather along dimension 0, but all '\n"
     ]
    },
    {
     "data": {
      "text/html": [
       "\n",
       "    <div>\n",
       "      \n",
       "      <progress value='196' max='196' style='width:300px; height:20px; vertical-align: middle;'></progress>\n",
       "      [196/196 02:56]\n",
       "    </div>\n",
       "    "
      ],
      "text/plain": [
       "<IPython.core.display.HTML object>"
      ]
     },
     "metadata": {},
     "output_type": "display_data"
    },
    {
     "name": "stdout",
     "output_type": "stream",
     "text": [
      "{'eval_loss': 0.6998547911643982, 'eval_accuracy': 0.5062, 'eval_precision': 0.5032701801763787, 'eval_recall': 0.95416, 'eval_f1': 0.6589684797922595, 'eval_runtime': 180.4259, 'eval_samples_per_second': 138.561, 'eval_steps_per_second': 1.086}\n"
     ]
    }
   ],
   "source": [
    "print(\"Evaluating the pre-trained model before fine-tuning...\")\n",
    "pre_eval_results = pre_trainer.evaluate()\n",
    "print(pre_eval_results)"
   ]
  },
  {
   "cell_type": "markdown",
   "id": "822b9669-a4be-4568-b560-9954e86cd165",
   "metadata": {},
   "source": [
    "This accuracy is pretty bad, to be honest...\n",
    "\n",
    "Let's see if we can fix this by fine-tuning the model\n",
    "\n",
    "# 2. Fine-tune the model with LoRA"
   ]
  },
  {
   "cell_type": "code",
   "execution_count": 10,
   "id": "e2208789-bf32-48d5-9792-3580a9be53f6",
   "metadata": {
    "tags": []
   },
   "outputs": [
    {
     "name": "stdout",
     "output_type": "stream",
     "text": [
      "trainable params: 296,450 || all params: 109,780,228 || trainable%: 0.2700\n"
     ]
    }
   ],
   "source": [
    "# Define LoRA strategy\n",
    "peft_config = LoraConfig(\n",
    "    task_type=TaskType.SEQ_CLS,\n",
    "    inference_mode=False,\n",
    "    r=8,\n",
    "    lora_alpha=32,\n",
    "    lora_dropout=0.1,\n",
    ")\n",
    "\n",
    "# Attach LoRA to model\n",
    "model = get_peft_model(model, peft_config)\n",
    "model.print_trainable_parameters()"
   ]
  },
  {
   "cell_type": "code",
   "execution_count": 13,
   "id": "039f5db4-d79b-4eee-b112-6483ad87002f",
   "metadata": {
    "tags": []
   },
   "outputs": [
    {
     "name": "stderr",
     "output_type": "stream",
     "text": [
      "/opt/conda/envs/python311/lib/python3.11/site-packages/transformers/training_args.py:1474: FutureWarning: `evaluation_strategy` is deprecated and will be removed in version 4.46 of 🤗 Transformers. Use `eval_strategy` instead\n",
      "  warnings.warn(\n"
     ]
    }
   ],
   "source": [
    "# Create trainer for Fine-Tuning\n",
    "training_args = TrainingArguments(\n",
    "    output_dir='./results',\n",
    "    evaluation_strategy='epoch',\n",
    "    learning_rate=2e-5,\n",
    "    per_device_train_batch_size=16,\n",
    "    per_device_eval_batch_size=64,\n",
    "    num_train_epochs=3,\n",
    "    weight_decay=0.01,\n",
    "    logging_dir='./logs',\n",
    "    logging_steps=10,\n",
    "    save_total_limit=2,\n",
    ")\n",
    "\n",
    "trainer = Trainer(\n",
    "    model=model,\n",
    "    args=training_args,\n",
    "    train_dataset=tokenized_imdb_train,\n",
    "    eval_dataset=tokenized_imdb_test,\n",
    "    compute_metrics=compute_metrics,\n",
    "    tokenizer=tokenizer,\n",
    ")"
   ]
  },
  {
   "cell_type": "code",
   "execution_count": null,
   "id": "9d4fb711-7ba2-49a8-a3b1-f0662ba10d8b",
   "metadata": {
    "tags": []
   },
   "outputs": [
    {
     "name": "stdout",
     "output_type": "stream",
     "text": [
      "Fine-tuning the model...\n"
     ]
    },
    {
     "name": "stderr",
     "output_type": "stream",
     "text": [
      "/opt/conda/envs/python311/lib/python3.11/site-packages/torch/nn/parallel/_functions.py:68: UserWarning: Was asked to gather along dimension 0, but all input tensors were scalars; will instead unsqueeze and return a vector.\n",
      "  warnings.warn('Was asked to gather along dimension 0, but all '\n"
     ]
    },
    {
     "data": {
      "text/html": [
       "\n",
       "    <div>\n",
       "      \n",
       "      <progress value='627' max='2346' style='width:300px; height:20px; vertical-align: middle;'></progress>\n",
       "      [ 627/2346 06:12 < 17:04, 1.68 it/s, Epoch 0.80/3]\n",
       "    </div>\n",
       "    <table border=\"1\" class=\"dataframe\">\n",
       "  <thead>\n",
       " <tr style=\"text-align: left;\">\n",
       "      <th>Epoch</th>\n",
       "      <th>Training Loss</th>\n",
       "      <th>Validation Loss</th>\n",
       "    </tr>\n",
       "  </thead>\n",
       "  <tbody>\n",
       "  </tbody>\n",
       "</table><p>"
      ],
      "text/plain": [
       "<IPython.core.display.HTML object>"
      ]
     },
     "metadata": {},
     "output_type": "display_data"
    },
    {
     "name": "stderr",
     "output_type": "stream",
     "text": [
      "/opt/conda/envs/python311/lib/python3.11/site-packages/torch/nn/parallel/_functions.py:68: UserWarning: Was asked to gather along dimension 0, but all input tensors were scalars; will instead unsqueeze and return a vector.\n",
      "  warnings.warn('Was asked to gather along dimension 0, but all '\n"
     ]
    }
   ],
   "source": [
    "print(\"Fine-tuning the model...\")\n",
    "trainer.train()"
   ]
  },
  {
   "cell_type": "code",
   "execution_count": null,
   "id": "0f043e59-c09e-4511-8bd7-7e8e0bf20c8b",
   "metadata": {},
   "outputs": [],
   "source": [
    "print(\"Evaluating the fine-tuned model...\")\n",
    "eval_results = trainer.evaluate()\n",
    "print(eval_results)"
   ]
  }
 ],
 "metadata": {
  "environment": {
   "kernel": "conda-env-python311-py",
   "name": "workbench-notebooks.m121",
   "type": "gcloud",
   "uri": "us-docker.pkg.dev/deeplearning-platform-release/gcr.io/workbench-notebooks:m121"
  },
  "kernelspec": {
   "display_name": "Python 3 (ipykernel) (Local)",
   "language": "python",
   "name": "conda-env-python311-py"
  },
  "language_info": {
   "codemirror_mode": {
    "name": "ipython",
    "version": 3
   },
   "file_extension": ".py",
   "mimetype": "text/x-python",
   "name": "python",
   "nbconvert_exporter": "python",
   "pygments_lexer": "ipython3",
   "version": "3.11.9"
  }
 },
 "nbformat": 4,
 "nbformat_minor": 5
}
