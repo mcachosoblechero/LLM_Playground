{
 "cells": [
  {
   "cell_type": "markdown",
   "metadata": {},
   "source": [
    "# Standard LLM Metrics\n",
    "\n",
    "This notebook covers the implementation of standard LLM metrics for various purposes. \n",
    "These applications and associated metrics are:\n",
    "- Translation using [IWSLT17 English-French Dataset](https://huggingface.co/datasets/IWSLT/iwslt2017) - BLUE\n",
    "- Summarization using [CNN/Daily Mail Dataset](https://huggingface.co/datasets/abisee/cnn_dailymail) - ROGUE\n",
    "- Sentiment analysis using [IMDB Movie Reviews Dataset](https://huggingface.co/datasets/stanfordnlp/imdb) - Standard classification metrics"
   ]
  },
  {
   "cell_type": "markdown",
   "metadata": {},
   "source": [
    "# 0. Libraries, contanst and support functions"
   ]
  },
  {
   "cell_type": "code",
   "execution_count": 3,
   "metadata": {},
   "outputs": [],
   "source": [
    "import pandas as pd\n",
    "\n",
    "from datasets import load_dataset"
   ]
  },
  {
   "cell_type": "markdown",
   "metadata": {},
   "source": [
    "# 1. Translation tasks"
   ]
  },
  {
   "cell_type": "code",
   "execution_count": 9,
   "metadata": {},
   "outputs": [
    {
     "name": "stderr",
     "output_type": "stream",
     "text": [
      "Downloading data: 100%|██████████| 27.7M/27.7M [00:01<00:00, 18.5MB/s]\n",
      "Generating train split: 100%|██████████| 232825/232825 [00:04<00:00, 47254.46 examples/s]\n",
      "Generating test split: 100%|██████████| 8597/8597 [00:00<00:00, 40472.30 examples/s]\n",
      "Generating validation split: 100%|██████████| 890/890 [00:00<00:00, 37362.18 examples/s]\n"
     ]
    }
   ],
   "source": [
    "# Load translation dataset\n",
    "translation_dataset = load_dataset('IWSLT/iwslt2017', \"iwslt2017-en-fr\")\n"
   ]
  },
  {
   "cell_type": "code",
   "execution_count": null,
   "metadata": {},
   "outputs": [],
   "source": []
  }
 ],
 "metadata": {
  "language_info": {
   "name": "python"
  }
 },
 "nbformat": 4,
 "nbformat_minor": 2
}
